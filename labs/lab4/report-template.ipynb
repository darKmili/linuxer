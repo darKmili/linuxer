{
 "cells": [
  {
   "cell_type": "markdown",
   "metadata": {},
   "source": [
    "《Linux系统安全管理及开发》实验报告\n",
    "=======\n",
    "\n",
    "## 实验名称：\n",
    "\n",
    "### 实验四 Linux环境C程序开发工具使用\n",
    "\n",
    "## 学生姓名（班级、学号）：\n",
    "\n",
    "### xxxx（信安1304班，2013xxxx）\n",
    "\n",
    "## 指导教师：\n",
    "\n",
    "### 李波/韦勇\n",
    "\n",
    "## 实验时间：\n",
    "\n",
    "### 2016年9月14日下午2～5点"
   ]
  },
  {
   "cell_type": "markdown",
   "metadata": {},
   "source": [
    "# 1. 实验记录\n",
    "\n",
    "（记录针对实验指导书中提出的*任务*，描述操作的结果、遇到的问题、解决的方法、实验的效果等内容，注意截图与文字说明相结合）"
   ]
  },
  {
   "cell_type": "markdown",
   "metadata": {},
   "source": [
    "# 2.  思考题回答\n",
    "\n",
    "（实验指导书后提出的思考题的回答）"
   ]
  },
  {
   "cell_type": "markdown",
   "metadata": {},
   "source": [
    "# 3. 实验体会\n",
    "\n",
    "（实验后对*实验知识点*的理解，特别是发生错误的地方，特别需要注意避免空洞的个人感受，比如“通过实验，我掌握了……提高了我对……的兴趣”，必须是*技术性的总结*，比如“通过实验，我理解了设计SHELL程序的过程，首先……然后……，调试SHELL程序的方法是……”，可以提出意见和建议。)"
   ]
  },
  {
   "cell_type": "code",
   "execution_count": null,
   "metadata": {
    "collapsed": true
   },
   "outputs": [],
   "source": []
  }
 ],
 "metadata": {
  "kernelspec": {
   "display_name": "Bash",
   "language": "bash",
   "name": "bash"
  },
  "language_info": {
   "codemirror_mode": "shell",
   "file_extension": ".sh",
   "mimetype": "text/x-sh",
   "name": "bash"
  }
 },
 "nbformat": 4,
 "nbformat_minor": 1
}
