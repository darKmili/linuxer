{
 "cells": [
  {
   "cell_type": "markdown",
   "metadata": {},
   "source": [
    "实验四 Linux环境C程序开发工具使用\n",
    "======="
   ]
  },
  {
   "cell_type": "markdown",
   "metadata": {},
   "source": [
    "# 1. 实验类型\n",
    "\n",
    "验证型，4学时，必做实验\n",
    "\n",
    "\n",
    "# 2.  实验目的\n",
    "\n",
    "熟悉字符模式下的C程序编译和调试环境，基本掌握Linux字符模式下的编译工具和调试工具的使用。\n",
    "\n",
    "# 3. 题目描述\n",
    "\n",
    "本实验需要综合使用Linux基本文件命令、编辑器的使用，练习在Linux的字符模式下，编辑、编译及调试一个C程序的基本方法。\n",
    "\n",
    "# 4. 实验要求\n",
    "\n",
    "* 基本层次：通过学习示例，能使用GCC编译一个C程序，根据指导书的例子，学习编写Makefile，使用make工具的方法，完成导出的测试项目的Makefile文件；并能熟练掌握GDB的基本操作命令调试源代码级别的C程序，找出示例程序在运行中的一个变量的值。\n",
    "\n",
    "* 提高层次：通过学习材料，思考使用GDB调试二进制级别的程序的方法。\n",
    "\n",
    "# 5. 相关知识\n",
    "\n",
    "Linux环境C程序开发的工具有：\n",
    "\n",
    "* 编辑器（vi, emacs等）\n",
    "* 编译程序（gcc, make等）\n",
    "* 调试程序（gdb等）\n",
    "* 版本控制程序（git, cvs, Subversion等）\n",
    "* 帮助文件生成（groff等）\n",
    "* 软件打包工具（tar, rpm等）\n",
    "\n",
    "等等，本实验以编译和调试的工具使用为例子，对开源软件开发方法进行学习。\n",
    "\n",
    "## 5.1、 编译\n",
    "\n",
    "GCC是GNU Compiler Collection的缩写，它是世界上最为重要的开放源代码软件[18]。因为所有其他的开放源代码项目都依赖于GCC进行编译。比如，没有GCC，Linux的产生就不会成为可能。\n",
    "\n",
    "GCC能工作在很多平台上，这里所说的平台是指计算机硬件芯片和运行在其上的操作系统的组合。下表8-1是GCC运行的平台。\n",
    "\n",
    "<center>表4-1 GCC运行的平台</center>\n",
    "\n",
    "|硬件\t|操作系统|\n",
    "|--------|--------------|\n",
    "|Alpha|Red Hat Linux 7.1|\n",
    "|HPPA\t|HPUX 11.0|\n",
    "|Intel x86\t|Debian Linux 2.2, Red Hat Linux 6.2, FreeBSD 4.5|\n",
    "|MIPS|\tIRIX 6.5|\n",
    "|PowerPC\t|AIX4.3.3|\n",
    "|Sparc\t|Solaris 2.7|\n",
    "\n",
    "GCC可以编译多种语言：C，C++，对象C（标准C的派生），Fortran，Java， Ada。正如GCC缩写所代表的对象一样，GCC实际上是多种编译器的统称，gcc是所有编译器的统一的程序接口，在本书中，并没有区分GCC和gcc。GCC的主页地址为文献[19]。\n",
    "\n",
    "一般地，任意一个软件都需要由成百上千个源程序文件组成，这些源程序需要逐个编译并且链接在一起。程序员需要经过“编辑源程序－编译链接－测试”的循环过程来进行软件开发，如果编译链接过程需要手工来进行的化，将花费大量的时间。这就是自动编译工具make产生的动机，它能将所有源程序通过一个配置文件（Makefile）的控制，使用一个软件接口调用编译和链接过程，最后生成目标软件，如果不是第一次编译，则只有发生变化的源代码才会被重新编译；甚至还能将目标软件和库文件拷贝到系统的指定目录，完成安装过程，以及删除安装的目标软件和库文件，完成卸载过程。\n",
    "\n",
    "《GNU编码标准》[15]是Richard Stallman（开放源代码运动奠基者之一）和其他一些GNU项目志愿者制定的，他们的目的是让开源软件系统干净、健壮和容易安装。它定义了一些标准的Makefile结构，以使得编译、安装、卸载等过程标准化。比如，一个标准的 GNU 软件，编译安装都是使用下面三个步骤：\n",
    "\n",
    "$ ./configure\n",
    "\n",
    "$ make\n",
    "\n",
    "$ make install\n",
    "\n",
    "configure脚本运行时可以检测系统的环境，确定软件安装目录，然后生成 Makefile 文件；make 自动调用系统中的编译器进行编译和连接；make install 将软件安装到设定的目录。\n",
    "\n",
    "另外，还可以完成其他功能，例如：make clean清除编译产生的目标文件；make distclean可以同时清除编译的结果和 configure 输出的文件；make tags生成 etags 使用的 TAGS 文件；make dist生成软件项目的发布包，为 tar.gz 格式的压缩包，文件名由软件包名和版本组成，等等。\n",
    "\n",
    "automake包中包含了能够实现《GNU编码标准》的一组Perl脚本程序，通过相对简单的配置文件可以自动生成《GNU编码标准》需要的文件以及相应的内容。这些脚本程序主要包括aclocal、autoscan、autoconf、autoheader、automake等。\n",
    "\n",
    "## 5.2、调试\n",
    "\n",
    "GDB是GNU Project Debugger的缩写，用于调试Ada, C, C++, Objective-C, Pascal 和其他语言编写的程序[20]，这些程序可以运行在本地计算机上，也可以运行在远程计算机上。GDB可以运行在几乎所有的UNIX和微软Windows平台上。\n",
    "\n",
    "GDB主要能做下面4种事（以及由它们所支持的其他事情）：\n",
    "\n",
    "* 启动程序，指定可能影响程序运行的任何条件；\n",
    "* 指定程序在一定条件下停止；\n",
    "* 检查当程序停止时发生的事情；\n",
    "* 通过改变程序中的某些条件，测试可能造成的软件错误，还可以由此学习其他的软件错误。\n",
    "\n",
    "GDB可以做源代码级别的程序调试（需要在编译时指定相应条件），也可以做二进制级别的程序调试。"
   ]
  },
  {
   "cell_type": "markdown",
   "metadata": {},
   "source": [
    "# 6. 实验设备\n",
    "\n",
    "实验者需要使用各自PC机上Windows操作系统的putty程序通过网络连接到Linux服务器（实验室内网为：10.11.8.17，外网为：vlab.cs.swust.edu.cn），启动交互式实验指导书（浏览器方式，访问地址在启动程序中显示），并使用浏览器打开实验室内部的GitLab服务（[实验室内网访问](http://10.11.8.17:8081/)，[寝室外网访问](http://vlab.cs.swust.edu.cn:8081/)），学习和验证基本的实验操作，并完成实验指导书中的“实验任务”部分。"
   ]
  },
  {
   "cell_type": "markdown",
   "metadata": {},
   "source": [
    "# 7. 实验指导\n",
    "\n",
    "本次实验7.1和7.2以一个简单的C程序为例，介绍GCC和GDB的编译、调试过程。\n",
    "\n",
    "该例子位于/noteboosk/workspace/example/calc目录下，包括两个文件：main.c, calc.c。其中，main.c文件内容为："
   ]
  },
  {
   "cell_type": "code",
   "execution_count": 1,
   "metadata": {
    "collapsed": false
   },
   "outputs": [
    {
     "name": "stdout",
     "output_type": "stream",
     "text": [
      "#include <stdio.h>\n",
      "int calc(int);\n",
      "int main(int argc, char* argv[])\n",
      "{\n",
      "\tint iInput=0, iOutput=0;\n",
      "\tint i=0;\n",
      "\tscanf(\"%i\",&iInput);\n",
      "\twhile(iInput < 0)\n",
      "\t{\n",
      "\t\tprintf(\"Please input a positive integer!\\n\");\n",
      "\t\tscanf(\"%i\",&iInput);\n",
      "\t}\n",
      "\tiOutput = calc(iInput);\n",
      "\t\n",
      "\tprintf(\"Result is:%i\\n\", iOutput);\n",
      "\treturn 0;\n",
      "}\n"
     ]
    }
   ],
   "source": [
    "cat /notebooks/workspace/example/calc/main.c"
   ]
  },
  {
   "cell_type": "markdown",
   "metadata": {},
   "source": [
    "calc.c的文件内容为："
   ]
  },
  {
   "cell_type": "code",
   "execution_count": 2,
   "metadata": {
    "collapsed": false
   },
   "outputs": [
    {
     "name": "stdout",
     "output_type": "stream",
     "text": [
      "#include <stdio.h>\n",
      "int calc(int iIn)\n",
      "{\n",
      "\tint i = 0, iOut = 0;\n",
      "\tiOut = iIn;\n",
      "\tfor(i = 0; i < iIn; i++)\n",
      "\t{\n",
      "\t\tiOut += iOut * iIn;\n",
      "\t}\n",
      "\treturn iOut;\n",
      "}\n"
     ]
    }
   ],
   "source": [
    "cat /notebooks/workspace/example/calc/calc.c"
   ]
  },
  {
   "cell_type": "markdown",
   "metadata": {},
   "source": [
    "## 7.1、编译过程\n",
    "\n",
    "有三种方式编译这两个源程序：\n",
    "\n",
    "一是直接使用如下命令行一次完成编译、链接过程"
   ]
  },
  {
   "cell_type": "code",
   "execution_count": 3,
   "metadata": {
    "collapsed": false
   },
   "outputs": [],
   "source": [
    "cd /notebooks/workspace/example/calc"
   ]
  },
  {
   "cell_type": "code",
   "execution_count": 4,
   "metadata": {
    "collapsed": false
   },
   "outputs": [],
   "source": [
    "gcc main.c calc.c -o main"
   ]
  },
  {
   "cell_type": "markdown",
   "metadata": {},
   "source": [
    "上述命令行中，main.c calc.c的后缀名（.c）指明了调用c编译器，前面讲到了gcc是GCC的众多编译器的统一入口，gcc靠后缀名决定调用什么编译器，-o 参数指定了可执行文件的文件名为main。\n",
    "\n",
    "检查一下生成的可执行文件："
   ]
  },
  {
   "cell_type": "code",
   "execution_count": 5,
   "metadata": {
    "collapsed": false
   },
   "outputs": [
    {
     "name": "stdout",
     "output_type": "stream",
     "text": [
      "calc.c  main  main.c\n"
     ]
    }
   ],
   "source": [
    "ls"
   ]
  },
  {
   "cell_type": "markdown",
   "metadata": {},
   "source": [
    "可以在命令行窗口中，进入目录\n",
    "\n",
    "```bash\n",
    "cd /notebooks/workspace/example/calc\n",
    "```\n",
    "\n",
    "运行目录中的可执行程序：\n",
    "\n",
    "```bash\n",
    "./main\n",
    "```\n",
    "\n",
    "程序需要输入一个数，如果输入2，则可得到下面的输出：\n",
    "\n",
    "`\n",
    "2           \n",
    "Result is:18\n",
    "`"
   ]
  },
  {
   "cell_type": "markdown",
   "metadata": {},
   "source": [
    "这种方法对于比较简单的测试程序可用，真实的软件项目一般采用模块化的方式进行开发，源代码较多，因此常用下面两种方法来进行编译。\n",
    "\n",
    "为了避免跟下一种方法混淆，先删除一下上一种方法生成的可执行文件："
   ]
  },
  {
   "cell_type": "code",
   "execution_count": 6,
   "metadata": {
    "collapsed": false
   },
   "outputs": [],
   "source": [
    "rm main"
   ]
  },
  {
   "cell_type": "markdown",
   "metadata": {},
   "source": [
    "第二种方法是编译calc.c为静态库，编译main.c时指定静态库的位置。\n",
    "\n",
    "步骤一：需要将calc.c编译成中间文件calc.o，使用如下命令行："
   ]
  },
  {
   "cell_type": "code",
   "execution_count": 7,
   "metadata": {
    "collapsed": false
   },
   "outputs": [],
   "source": [
    "gcc -c calc.c"
   ]
  },
  {
   "cell_type": "code",
   "execution_count": 8,
   "metadata": {
    "collapsed": false
   },
   "outputs": [
    {
     "name": "stdout",
     "output_type": "stream",
     "text": [
      "calc.c  calc.o  main.c\n"
     ]
    }
   ],
   "source": [
    "ls"
   ]
  },
  {
   "cell_type": "markdown",
   "metadata": {},
   "source": [
    "可见，calc.o已生成。"
   ]
  },
  {
   "cell_type": "markdown",
   "metadata": {},
   "source": [
    "步骤二：生成静态库文件，添加calc.o到静态库中，使用如下命令行："
   ]
  },
  {
   "cell_type": "code",
   "execution_count": 9,
   "metadata": {
    "collapsed": false
   },
   "outputs": [
    {
     "name": "stdout",
     "output_type": "stream",
     "text": [
      "ar: creating libcalc.a\n"
     ]
    }
   ],
   "source": [
    "ar -r libcalc.a calc.o"
   ]
  },
  {
   "cell_type": "code",
   "execution_count": 10,
   "metadata": {
    "collapsed": false
   },
   "outputs": [
    {
     "name": "stdout",
     "output_type": "stream",
     "text": [
      "calc.c  calc.o  libcalc.a  main.c\n"
     ]
    }
   ],
   "source": [
    "ls"
   ]
  },
  {
   "cell_type": "markdown",
   "metadata": {},
   "source": [
    "可见，calc.o已生成。\n",
    "\n",
    "命令行中，-r libcalc.a参数表示建立静态库，名字为libcalc.a。\n",
    "\n",
    "步骤三：使用如下命令行生成可执行程序"
   ]
  },
  {
   "cell_type": "code",
   "execution_count": 11,
   "metadata": {
    "collapsed": false
   },
   "outputs": [],
   "source": [
    "gcc main.c libcalc.a -o main"
   ]
  },
  {
   "cell_type": "code",
   "execution_count": 12,
   "metadata": {
    "collapsed": false
   },
   "outputs": [
    {
     "name": "stdout",
     "output_type": "stream",
     "text": [
      "calc.c  calc.o  libcalc.a  main  main.c\n"
     ]
    }
   ],
   "source": [
    "ls"
   ]
  },
  {
   "cell_type": "markdown",
   "metadata": {},
   "source": [
    "生成的可执行文件依然叫main。\n",
    "\n",
    "上面这条gcc命令也可以用下面的命令完成："
   ]
  },
  {
   "cell_type": "code",
   "execution_count": 13,
   "metadata": {
    "collapsed": false
   },
   "outputs": [],
   "source": [
    "gcc main.c -lcalc -L./ -o main"
   ]
  },
  {
   "cell_type": "code",
   "execution_count": 14,
   "metadata": {
    "collapsed": false
   },
   "outputs": [
    {
     "name": "stdout",
     "output_type": "stream",
     "text": [
      "calc.c  calc.o  libcalc.a  main  main.c\n"
     ]
    }
   ],
   "source": [
    "ls"
   ]
  },
  {
   "cell_type": "markdown",
   "metadata": {},
   "source": [
    "-l参数可以指定库名称，这里calc表示使用库libcalc.a，库名字前面的lib和后面的.a被省略掉了，遵从了命名法，-L选项添加当前路径到库文件的搜索路径中。\n",
    "\n",
    "为避免和下一种方法混淆，首先还是删除生成的可执行文件。"
   ]
  },
  {
   "cell_type": "code",
   "execution_count": 15,
   "metadata": {
    "collapsed": false
   },
   "outputs": [],
   "source": [
    "rm libcalc.a main"
   ]
  },
  {
   "cell_type": "markdown",
   "metadata": {},
   "source": [
    "第三种方法是建立共享库，编译时指定共享库。\n",
    "\n",
    "步骤一：编译calc.c为calc.o："
   ]
  },
  {
   "cell_type": "code",
   "execution_count": 16,
   "metadata": {
    "collapsed": false
   },
   "outputs": [],
   "source": [
    "gcc -c -fpic calc.c"
   ]
  },
  {
   "cell_type": "code",
   "execution_count": 17,
   "metadata": {
    "collapsed": false
   },
   "outputs": [
    {
     "name": "stdout",
     "output_type": "stream",
     "text": [
      "calc.c  calc.o  libcalc.a  main  main.c\n"
     ]
    }
   ],
   "source": [
    "ls"
   ]
  },
  {
   "cell_type": "markdown",
   "metadata": {},
   "source": [
    "命令行中，-fpic指定calc.o为可重分配地址属性，pic是position independence code的缩写。\n",
    "\n",
    "步骤二：使用calc.o生成共享库calc.so"
   ]
  },
  {
   "cell_type": "code",
   "execution_count": 18,
   "metadata": {
    "collapsed": false
   },
   "outputs": [],
   "source": [
    "gcc -shared calc.o -o calc.so"
   ]
  },
  {
   "cell_type": "code",
   "execution_count": 19,
   "metadata": {
    "collapsed": false
   },
   "outputs": [
    {
     "name": "stdout",
     "output_type": "stream",
     "text": [
      "calc.c  calc.o  calc.so  libcalc.a  main  main.c\n"
     ]
    }
   ],
   "source": [
    "ls"
   ]
  },
  {
   "cell_type": "markdown",
   "metadata": {},
   "source": [
    "步骤一和步骤二也可以合并为一行命令："
   ]
  },
  {
   "cell_type": "code",
   "execution_count": 20,
   "metadata": {
    "collapsed": false
   },
   "outputs": [],
   "source": [
    "gcc -shared -fpic calc.c -o calc.so"
   ]
  },
  {
   "cell_type": "markdown",
   "metadata": {},
   "source": [
    "步骤三：编译main.c，链接生成的共享库"
   ]
  },
  {
   "cell_type": "code",
   "execution_count": 21,
   "metadata": {
    "collapsed": false
   },
   "outputs": [],
   "source": [
    "gcc main.c calc.so -o main"
   ]
  },
  {
   "cell_type": "code",
   "execution_count": 22,
   "metadata": {
    "collapsed": false
   },
   "outputs": [
    {
     "name": "stdout",
     "output_type": "stream",
     "text": [
      "calc.c  calc.o  calc.so  libcalc.a  main  main.c\n"
     ]
    }
   ],
   "source": [
    "ls"
   ]
  },
  {
   "cell_type": "markdown",
   "metadata": {},
   "source": [
    "如果在命令行窗口中运行新生成的该程序（main）会发生错误，提示为：\n",
    "\n",
    "error while loading shared libraries: calc.so: cannot open shared object file: No such file or directory\n",
    "\n",
    "原因是：共享库编译的main程序执行时需要加载共享库calc.so，而步骤一和步骤二生成的共享库calc.so不在系统默认的共享库搜索路径中，所以错误提示为共享库calc.so不存在。可以通过如下命令指明共享库的搜索路径为calc.so所在的当前目录："
   ]
  },
  {
   "cell_type": "code",
   "execution_count": 23,
   "metadata": {
    "collapsed": false
   },
   "outputs": [],
   "source": [
    "export LD_LIBRARY_PATH=`pwd`"
   ]
  },
  {
   "cell_type": "markdown",
   "metadata": {},
   "source": [
    "再次运行新生成的该程序main，则可以正常运行。"
   ]
  },
  {
   "cell_type": "markdown",
   "metadata": {},
   "source": [
    "### 实验任务1\n",
    "\n",
    "使用上述三种编译方法，对/notebooks/workspace目录下的bubbleSort.c, insertSort.c, selectSort.c, sort.c, sort.h进行编译（其中，sort.c是主程序，sort.h是头文件，其他的三个c程序分别实现了主程序需要用到的3个函数），写出步骤和结果。"
   ]
  },
  {
   "cell_type": "code",
   "execution_count": null,
   "metadata": {
    "collapsed": true
   },
   "outputs": [],
   "source": []
  },
  {
   "cell_type": "markdown",
   "metadata": {},
   "source": [
    "## 7.2、调试\n",
    "\n",
    "** 注意：因为调试程序gdb的执行环境是一个交互式的环境，加上实验指导书环境的限制，需要在putty登录窗口中完成下述gdb的操作。**\n",
    "\n",
    "调式过程针对的是可执行程序，如果要在调试过程中看到程序的函数名、变量名、源代码等信息，而不是内存地址，则需要在编译时指定将调试信息添加到可执行文件中。gcc命令的-g参数可以完成这个功能。例如使用如下命令：\n",
    "\n",
    "进入调试代码的目录："
   ]
  },
  {
   "cell_type": "code",
   "execution_count": 24,
   "metadata": {
    "collapsed": true
   },
   "outputs": [],
   "source": [
    "cd /notebooks/workspace/example/calc"
   ]
  },
  {
   "cell_type": "markdown",
   "metadata": {},
   "source": [
    "删除前面步骤生成的文件："
   ]
  },
  {
   "cell_type": "code",
   "execution_count": 25,
   "metadata": {
    "collapsed": true
   },
   "outputs": [],
   "source": [
    "rm calc.o  calc.so  libcalc.a  main"
   ]
  },
  {
   "cell_type": "markdown",
   "metadata": {},
   "source": [
    "编译待调试的程序："
   ]
  },
  {
   "cell_type": "code",
   "execution_count": 27,
   "metadata": {
    "collapsed": false
   },
   "outputs": [],
   "source": [
    "gcc main.c calc.c -o main -g"
   ]
  },
  {
   "cell_type": "markdown",
   "metadata": {},
   "source": [
    "查看编译是否完成："
   ]
  },
  {
   "cell_type": "code",
   "execution_count": 28,
   "metadata": {
    "collapsed": false
   },
   "outputs": [
    {
     "name": "stdout",
     "output_type": "stream",
     "text": [
      "total 20\n",
      "-rw-rw-r-- 1 jovyan  1002  144 Oct 24 05:39 calc.c\n",
      "-rwxr-xr-x 1 jovyan users 8928 Oct 24 05:40 main\n",
      "-rw-rw-r-- 1 jovyan  1002  299 Oct 24 05:39 main.c\n"
     ]
    }
   ],
   "source": [
    "ls -l"
   ]
  },
  {
   "cell_type": "markdown",
   "metadata": {},
   "source": [
    "可见，待调试程序已生成。"
   ]
  },
  {
   "cell_type": "markdown",
   "metadata": {},
   "source": [
    "调试过程主要包括：\n",
    "\n",
    "* 启动gdb\n",
    "* 控制待调试程序的执行过程\n",
    "* 显示待调试程序的执行环境\n",
    "* 改变待调试程序的执行环境\n",
    "\n",
    "### 1）启动GDB\n",
    "\n",
    "启动GDB一般有三种方式：\n",
    "\n",
    "* gdb program 也就是执行文件。\n",
    "* gdb core 用gdb同时调试一个运行程序和core文件，core是程序非法执行后core dump后产生的文件。\n",
    "* gdb ID 如果程序是一个服务程序，那么可以指定这个服务程序运行时的进程ID。gdb会自动attach上去，并调试他。\n",
    "\n",
    "GDB启动时，可以加上一些GDB的启动开关，详细的开关可以用gdb -help查看。\n",
    "\n",
    "采用第一种方式启动调试main程序：\n",
    "\n",
    "____\n",
    "root@dce3966d472d:/notebooks/workspace/example/calc# gdb main                            \n",
    "GNU gdb (Ubuntu 7.7.1-0ubuntu5~14.04.2) 7.7.1                                                \n",
    "Copyright (C) 2014 Free Software Foundation, Inc.                                            \n",
    "License GPLv3+: GNU GPL version 3 or later <http://gnu.org/licenses/gpl.html>                \n",
    "This is free software: you are free to change and redistribute it.                           \n",
    "There is NO WARRANTY, to the extent permitted by law.  Type \"show copying\"                   \n",
    "and \"show warranty\" for details.                                                             \n",
    "This GDB was configured as \"x86_64-linux-gnu\".                                               \n",
    "Type \"show configuration\" for configuration details.                                         \n",
    "For bug reporting instructions, please see:                                                  \n",
    "<http://www.gnu.org/software/gdb/bugs/>.                                                     \n",
    "Find the GDB manual and other documentation resources online at:                             \n",
    "<http://www.gnu.org/software/gdb/documentation/>.                                            \n",
    "For help, type \"help\".                                                                       \n",
    "Type \"apropos word\" to search for commands related to \"word\"...                              \n",
    "Reading symbols from a.out...done.   \n",
    "(gdb)\n",
    "____\n",
    "\n",
    "进入调试环境后，可以通过help命令来进行学习。\n",
    "\n",
    "另外，为了简化gdb的操作，在gdb环境下，可以使用如下的快捷方式：\n",
    "\n",
    "* 命令补全：使用\"Tab\"键补全命令或者参数；\n",
    "* 历史命令：使用向上、向下键访问已使用过的命令；\n",
    "* 命令简写：gdb环境下的命令有简写方式，如break命令可以简写为b\n",
    "* 运行上一个命令：直接回车表示运行上一次输入的命令。"
   ]
  },
  {
   "cell_type": "markdown",
   "metadata": {},
   "source": [
    "### 2) 控制待调试程序的执行过程\n",
    "\n",
    "gdb中可以通过如下功能控制程序的执行：\n",
    "\n",
    "* 运行程序：在gdb中运行待调式的程序；\n",
    "* 设置/显示断点：断点是执行过程中需要暂停的地方，用户可以在这些地方观察程序的执行环境；\n",
    "* 设置/显示观察点：观察点一般来观察某个表达式（变量也是一种表达式）的值是否有变化了，如果有变化，马上停住程序；\n",
    "* 设置捕捉点：捕捉点是程序运行时的一些事件，比如载入共享库（动态链接库）或是C++的异常等；\n",
    "* 维护停止点：对已设置的停止点（断电、观察点、捕捉点）进行删除、清除、停用、启用等操作；\n",
    "* 单步调试和连续执行：在启动并设置了停止点的情况下，单步执行程序该停止点后每一条语句，或者恢复停止点后的程序执行；\n",
    "* 函数调用：运行程序中定义的函数。\n",
    "\n",
    "#### (1) 运行程序\n",
    "\n",
    "在gdb中开始运行程序，使用run命令，如：\n",
    "\n",
    "____\n",
    "(gdb) run                                                                                    \n",
    "Starting program: /notebooks/workspace/example/calc/main                                     \n",
    "2                                                                                            \n",
    "Result is:18                                                                                 \n",
    "During startup program exited normally.     \n",
    "____\n",
    "\n",
    "因为示例程序的执行中需要用户输入一个数字，所以屏幕上有等待输入的过程。上面的执行过程中输入了2，程序执行结果为18。"
   ]
  },
  {
   "cell_type": "markdown",
   "metadata": {},
   "source": [
    "#### (2) 设置/显示断点\n",
    "\n",
    "用break命令来设置断点，有几种设置断点的方法：\n",
    "\n",
    "break +offset，break –offset，在当前行号的前面或后面的offset行停住。offiset为自然数。\n",
    "\n",
    "break filename:linenum，在源文件filename的linenum行处停住。\n",
    "\n",
    "break filename:function，在源文件filename的function函数的入口处停住。\n",
    "\n",
    "break *address，在程序运行的内存地址处停住。\n",
    "\n",
    "break命令没有参数时，表示在下一条指令处停住。\n",
    "\n",
    "break ... if condition，condition表示条件，在条件成立时停住。比如在循环境体中，可以设置\n",
    "\n",
    "break if i=100，表示当i为100时停住程序。\n",
    "\n",
    "查看断点时，可使用info命令，如下所示：（注：n表示断点号）\n",
    "\n",
    "info breakpoints [n]\n",
    "\n",
    "info break [n]"
   ]
  },
  {
   "cell_type": "markdown",
   "metadata": {},
   "source": [
    "例如在gdb环境中执行命令：\n",
    "\n",
    "____\n",
    "(gdb) break main                                                                             \n",
    "Note: breakpoint 1 also set at pc 0x4005fc.                                                  \n",
    "Breakpoint 3 at 0x4005fc: file main.c, line 5.   \n",
    "____\n",
    "\n",
    "则在main函数位置设置一个断点，使用如下命令查看断点：\n",
    "\n",
    "___\n",
    "(gdb) info breakpoints                                                                       \n",
    "Num     Type           Disp Enb Address            What                                      \n",
    "1       breakpoint     keep y   0x00000000004005fc in main at main.c:5      \n",
    "___\n",
    "\n",
    "显示该断点位于main.c文件第5行，处于启用状态。\n",
    "\n",
    "此时再运行程序，则在断点处暂停，如：\n",
    "\n",
    "____\n",
    "(gdb) run                                                                                    \n",
    "Starting program: /notebooks/workspace/example/calc/main                                     \n",
    "                                                                                             \n",
    "Breakpoint 1, main (argc=1, argv=0x7fffffffe728) at main.c:5                                 \n",
    "5               int iInput=0, iOutput=0;       \n",
    "____\n",
    "\n",
    "由于程序处于运行状态，因此可以查看运行时的变量，方法见“3) 显示待调试程序的执行环境”小节。"
   ]
  },
  {
   "cell_type": "markdown",
   "metadata": {},
   "source": [
    "#### (3) 设置/显示观察点\n",
    "\n",
    "观察点一般来观察某个表达式（变量也是一种表达式）的值是否有变化了，如果有变化，马上停住程序。有下面的几种方法来设置观察点：\n",
    "\n",
    "watch expr，为表达式（变量）expr设置一个观察点。一量表达式值有变化时，马上停住程序。\n",
    "\n",
    "rwatch，当表达式（变量）expr被读时，停住程序。\n",
    "\n",
    "awatch，当表达式（变量）的值被读或被写时，停住程序。\n",
    "\n",
    "info watchpoints，列出当前所设置了的所有观察点。"
   ]
  },
  {
   "cell_type": "markdown",
   "metadata": {},
   "source": [
    "例如，在gdb环境中执行：\n",
    "\n",
    "____\n",
    "(gdb) watch iInput                                                                           \n",
    "Hardware watchpoint 2: iInput\n",
    "____\n",
    "\n",
    "设置了一个观察点，使用如下命令查看：\n",
    "\n",
    "____\n",
    "(gdb) info watchpoints                                                                       \n",
    "Num     Type           Disp Enb Address            What                                      \n",
    "2       hw watchpoint  keep y                      iInput    \n",
    "____"
   ]
  },
  {
   "cell_type": "markdown",
   "metadata": {},
   "source": [
    "#### (4) 设置捕捉点\n",
    "\n",
    "可设置捕捉点来捕捉程序运行时的一些事件。如：载入共享库（动态链接库）或是C++的异常。设置捕捉点的格式为：\n",
    "\n",
    "catch event，当event发生时，停住程序。event可以是下面的内容：\n",
    "\n",
    "* throw 一个C++抛出的异常。（throw为关键字）\n",
    "* catch 一个C++捕捉到的异常。（catch为关键字）\n",
    "* exec 调用系统调用exec时。（exec为关键字，目前此功能只在HP-UX下有用）\n",
    "* fork 调用系统调用fork时。（fork为关键字，目前此功能只在HP-UX下有用）\n",
    "* vfork 调用系统调用vfork时。（vfork为关键字，目前此功能只在HP-UX下有用）\n",
    "* load 或 load 载入共享库（动态链接库）时。（load为关键字，目前此功能只在HP-UX下有用）\n",
    "* unload 或 unload 卸载共享库（动态链接库）时。（unload为关键字，目前此功能只在HP-UX下有用）\n",
    "* tcatch，只设置一次捕捉点，当程序停住以后，应点被自动删除。\n"
   ]
  },
  {
   "cell_type": "markdown",
   "metadata": {},
   "source": [
    "#### (5) 维护停止点\n",
    "\n",
    "上面说了如何设置程序的停止点，GDB中的停止点也就是上述的三类。在GDB中，如果觉得已定义好的停止点没有用了，可以使用delete、clear、disable、enable这几个命令来进行维护。\n",
    "\n",
    "clear 函数\n",
    "\n",
    "清除所有设置在函数上的停止点。\n",
    "\n",
    "clear 行号\n",
    "\n",
    "清除所有设置在指定行上的停止点。\n",
    "\n",
    "delete [breakpoints] [range...]\n",
    "\n",
    "删除指定的断点，breakpoints为断点号。如果不指定断点号，则表示删除所有的断点。range 表示断点号的范围（如：3-7）。其简写命令为d。\n",
    "\n",
    "比删除更好的一种方法是disable停止点，disable了的停止点，GDB不会删除，当还需要时，enable即可，就好像回收站一样。\n",
    "\n",
    "disable [breakpoints] [range...]\n",
    "\n",
    "disable所指定的停止点，breakpoints为停止点号。如果什么都不指定，表示disable所有的停止点。简写命令是dis.\n",
    "\n",
    "enable [breakpoints] [range...]\n",
    "\n",
    "enable所指定的停止点，breakpoints为停止点号。\n",
    "\n",
    "enable [breakpoints] once range...\n",
    "\n",
    "enable所指定的停止点一次，当程序停止后，该停止点马上被GDB自动disable。\n",
    "\n",
    "enable [breakpoints] delete range...\n",
    "\n",
    "enable所指定的停止点一次，当程序停止后，该停止点马上被GDB自动删除。"
   ]
  },
  {
   "cell_type": "markdown",
   "metadata": {},
   "source": [
    "例如，通过下面命令设置3个断点：\n",
    "\n",
    "____\n",
    "(gdb) break 5                                                                                \n",
    "Breakpoint 10 at 0x4005fc: file main.c, line 5.                                              \n",
    "(gdb) break 7                                                                                \n",
    "Breakpoint 11 at 0x400611: file main.c, line 7.                                              \n",
    "(gdb) break 9                                                                                \n",
    "Breakpoint 12 at 0x400629: file main.c, line 9.                                              \n",
    "(gdb) info breakpoints                                                                       \n",
    "Num     Type           Disp Enb Address            What                                      \n",
    "10      breakpoint     keep y   0x00000000004005fc in main at main.c:5                       \n",
    "11      breakpoint     keep y   0x0000000000400611 in main at main.c:7                       \n",
    "12      breakpoint     keep y   0x0000000000400629 in main at main.c:9\n",
    "____\n",
    "\n",
    "使用delete命令删除第一个断点，使用disable停用第二个断点，使用delete命令删除所有断点。\n",
    "\n",
    "____\n",
    "(gdb) delete 10                                                                              \n",
    "(gdb) disable 11                                                                             \n",
    "(gdb) info breakpoints                                                                       \n",
    "Num     Type           Disp Enb Address            What                                      \n",
    "11      breakpoint     keep n   0x0000000000400611 in main at main.c:7                       \n",
    "12      breakpoint     keep y   0x0000000000400629 in main at main.c:9 \n",
    "(gdb) delete 11-12                                                                           \n",
    "(gdb) info breakpoints                                                                       \n",
    "No breakpoints or watchpoints.       \n",
    "____"
   ]
  },
  {
   "cell_type": "markdown",
   "metadata": {},
   "source": [
    "#### (6) 单步调试和连续执行\n",
    "\n",
    "当程序被停住了，可以用continue命令恢复程序的运行直到程序结束，或下一个断点到来。也可以使用step或next命令单步跟踪程序。\n",
    "\n",
    "continue [ignore-count]\n",
    "\n",
    "c [ignore-count]\n",
    "\n",
    "fg [ignore-count]\n",
    "\n",
    "恢复程序运行，直到程序结束，或是下一个断点到来。ignore-count表示忽略其后的断点次数。continue，c，fg三个命令都是一样的意思。\n",
    "\n",
    "step [count]\n",
    "\n",
    "单步跟踪，如果有函数调用，它会进入该函数。进入函数的前提是，此函数被编译有debug信息。后面可以加count也可以不加，不加表示一条条地执行，加表示执行后面的count条指令，然后再停住。\n",
    "\n",
    "next [count]\n",
    "\n",
    "同样单步跟踪，如果有函数调用，它不会进入该函数。后面可以加count也可以不加，不加表示一条条地执行，加表示执行后面的count条指令，然后再停住。\n",
    "\n",
    "set step-mode\n",
    "\n",
    "set step-mode on\n",
    "\n",
    "打开step-mode模式，于是，在进行单步跟踪时，程序不会因为没有debug信息而不停住。这个参数有很利于查看机器码。\n",
    "\n",
    "set step-mod off\n",
    "\n",
    "关闭step-mode模式。\n",
    "\n",
    "finish\n",
    "\n",
    "运行程序，直到当前函数完成返回。并打印函数返回时的堆栈地址和返回值及参数值等信息。\n",
    "\n",
    "until 或 u\n",
    "\n",
    "当厌倦了在一个循环体内单步跟踪时，这个命令可以运行程序直到退出循环体。"
   ]
  },
  {
   "cell_type": "markdown",
   "metadata": {},
   "source": [
    "例如，在main函数设置断点，该断点位于main.c第5行：\n",
    "\n",
    "____\n",
    "(gdb) break main                                                                             \n",
    "Breakpoint 13 at 0x4005fc: file main.c, line 5.                                              \n",
    "(gdb) info breakpoints                                                                       \n",
    "Num     Type           Disp Enb Address            What                                      \n",
    "13      breakpoint     keep y   0x00000000004005fc in main at main.c:5                       \n",
    "____\n",
    "\n",
    "接着，运行该程序，程序在第5行位置暂停\n",
    "\n",
    "____\n",
    "(gdb) run                                                                                    \n",
    "Starting program: /notebooks/workspace/example/calc/main                                     \n",
    "                                                                                             \n",
    "Breakpoint 13, main (argc=1, argv=0x7fffffffe728) at main.c:5                                \n",
    "5               int iInput=0, iOutput=0;       \n",
    "____\n",
    "\n",
    "使用next命令（简写为n）单步执行程序，输入4后，单步执行到13行时，使用step命令（简写为s）进入calc函数中调试，再使用next命令调试，直到程序结束。\n",
    "\n",
    "____\n",
    "(gdb) n                                                                                      \n",
    "6               int i=0;                                                                     \n",
    "(gdb) n                                                                                      \n",
    "7               scanf(\"%i\",&iInput);                                                         \n",
    "(gdb)                                                                                        \n",
    "4                                                                                            \n",
    "8               while(iInput < 0)                                                            \n",
    "(gdb)                                                                                        \n",
    "13              iOutput = calc(iInput);                                                      \n",
    "(gdb) s                                                                                      \n",
    "calc (iIn=4) at calc.c:4                                                                     \n",
    "4               int i = 0, iOut = 0;                                                         \n",
    "(gdb) n                                                                                      \n",
    "5               iOut = iIn;                                                                  \n",
    "(gdb)                                                                                        \n",
    "6               for(i = 0; i < iIn; i++)                                                     \n",
    "(gdb)                                                                                        \n",
    "8                       iOut += iOut * iIn;                                                  \n",
    "(gdb)                                                                                        \n",
    "6               for(i = 0; i < iIn; i++)                                                     \n",
    "(gdb)                                                                                        \n",
    "8                       iOut += iOut * iIn;                                                  \n",
    "(gdb)                                                                                        \n",
    "6               for(i = 0; i < iIn; i++)                                                     \n",
    "(gdb)                                                                                        \n",
    "8                       iOut += iOut * iIn;                                                  \n",
    "(gdb)                                                                                        \n",
    "6               for(i = 0; i < iIn; i++)                                                     \n",
    "(gdb)                                                                                        \n",
    "8                       iOut += iOut * iIn;                                                  \n",
    "(gdb)                                                                                        \n",
    "6               for(i = 0; i < iIn; i++)                                                     \n",
    "(gdb)                                                                                        \n",
    "8                       iOut += iOut * iIn;                                                  \n",
    "(gdb)                                                                                        \n",
    "6               for(i = 0; i < iIn; i++)                                                     \n",
    "(gdb)                                                                                        \n",
    "8                       iOut += iOut * iIn;                                                  \n",
    "(gdb)                                                                                        \n",
    "6               for(i = 0; i < iIn; i++)                                                     \n",
    "(gdb)                                                                                        \n",
    "8                       iOut += iOut * iIn;                                                  \n",
    "(gdb)                                                                                        \n",
    "6               for(i = 0; i < iIn; i++)                                                     \n",
    "(gdb)                                                                                        \n",
    "10              return iOut;                                                                 \n",
    "(gdb)                                                                                        \n",
    "11      }                                                                                    \n",
    "(gdb)                                                                                        \n",
    "main (argc=1, argv=0x7fffffffe728) at main.c:15                                              \n",
    "15              printf(\"Result is:%i\\n\", iOutput);                                           \n",
    "(gdb)                                                                                        \n",
    "Result is:2500                                                                               \n",
    "16              return 0;                                                                    \n",
    "(gdb)                                                                                        \n",
    "17      }                                                                                    \n",
    "(gdb)                                                                                        \n",
    "__libc_start_main (main=0x4005ed <main>, argc=1, argv=0x7fffffffe728, init=<optimized out>,  \n",
    "    fini=<optimized out>, rtld_fini=<optimized out>, stack_end=0x7fffffffe718)               \n",
    "    at libc-start.c:321                                                                      \n",
    "321     libc-start.c: No such file or directory.            \n",
    "____"
   ]
  },
  {
   "cell_type": "markdown",
   "metadata": {},
   "source": [
    "#### (7) 函数调用\n",
    "\n",
    "使用call命令可以调用程序中的函数，前提是程序正在运行中，可以设置停止点运行程序。"
   ]
  },
  {
   "cell_type": "markdown",
   "metadata": {},
   "source": [
    "例如，运行程序到断点处，使用call命令调用函数calc，参数为4，可得到该函数输出为2500\n",
    "\n",
    "____\n",
    "(gdb) run                                                                                    \n",
    "Starting program: /notebooks/workspace/example/calc/main                                     \n",
    "                                                                                             \n",
    "Breakpoint 13, main (argc=1, argv=0x7fffffffe728) at main.c:5                                \n",
    "5               int iInput=0, iOutput=0;                                                     \n",
    "(gdb) call calc(4)                                                                           \n",
    "$3 = 2500     \n",
    "____"
   ]
  },
  {
   "cell_type": "markdown",
   "metadata": {},
   "source": [
    "### 3) 显示待调试程序的执行环境\n",
    "\n",
    "gdb中可以显示如下待调试程序的执行环境：\n",
    "\n",
    "* 显示源程序\n",
    "\n",
    "* 源代码搜索\n",
    "forward-search\n",
    "search\n",
    "reverse-search\n",
    "* 查看运行时变量\n",
    "\tprint\n",
    "\twhatis\n",
    "\tx\n",
    "\tdisplay\n",
    "\n",
    "#### (1) 显示源程序\n",
    "\n",
    "可使用list命令查看带有源代码信息的可执行程序，该命令有如下形式：\n",
    "\n",
    "list [file:][function:][num]\n",
    "\n",
    "显示源代码file中function函数的num周围10行源代码，num可以为\"开始行,结束行\"的形式，可以不指定file和function；"
   ]
  },
  {
   "cell_type": "markdown",
   "metadata": {},
   "source": [
    "例如，显示calc函数的10行。\n",
    "\n",
    "____\n",
    "(gdb) list calc                                                                              \n",
    "1       \\#include <stdio.h>                                                                   \n",
    "2       int calc(int iIn)                                                                    \n",
    "3       {                                                                                    \n",
    "4               int i = 0, iOut = 0;                                                         \n",
    "5               iOut = iIn;                                                                  \n",
    "6               for(i = 0; i < iIn; i++)                                                     \n",
    "7               {                                                                            \n",
    "8                       iOut += iOut * iIn;                                                  \n",
    "9               }                                                                            \n",
    "10              return iOut;                                                                 \n",
    "(gdb)                                                                                        \n",
    "11      }                \n",
    "____"
   ]
  },
  {
   "cell_type": "markdown",
   "metadata": {},
   "source": [
    "#### (2) 源代码搜索\n",
    "\n",
    "在当前list列出的源代码中进行搜索，搜索方式包括：\n",
    "\n",
    "reverse-search\n",
    "\n",
    "向后搜索\n",
    "\n",
    "forward-search\n",
    "\n",
    "向前搜索\n",
    "\n",
    "search\n",
    "\n",
    "向前搜索"
   ]
  },
  {
   "cell_type": "markdown",
   "metadata": {},
   "source": [
    "例如，查找包含iOut的代码段：\n",
    "\n",
    "____\n",
    "(gdb) search iOut                                                                            \n",
    "5               iOut = iIn;                                                                  \n",
    "(gdb)                                                                                        \n",
    "8                       iOut += iOut * iIn;                                                  \n",
    "(gdb)                                                                                        \n",
    "10              return iOut;                                                                 \n",
    "(gdb)                                                                                        \n",
    "Expression not found       \n",
    "____"
   ]
  },
  {
   "cell_type": "markdown",
   "metadata": {},
   "source": [
    "#### (3) 查看运行时变量\n",
    "\n",
    "运行程序时可以查看程序中的变量，可使用命令为：\n",
    "\n",
    "print 变量名\n",
    "\n",
    "打印变量的值；\n",
    "\n",
    "whatis 变量名\n",
    "\n",
    "打印变量的类型；\n",
    "\n",
    "display 变量名\n",
    "\n",
    "每次程序在调试停止点位置显示变量的值"
   ]
  },
  {
   "cell_type": "markdown",
   "metadata": {},
   "source": [
    "例如，在调试中使用print命令显示i变量的值，使用display显示iInput的值，使用whatis显示iOutput的类型：\n",
    "\n",
    "____\n",
    "(gdb) run                                                                                    \n",
    "The program being debugged has been started already.                                         \n",
    "Start it from the beginning? (y or n) y                                                      \n",
    "                                                                                             \n",
    "Starting program: /notebooks/workspace/example/calc/main                                     \n",
    "                                                                                             \n",
    "Breakpoint 13, main (argc=1, argv=0x7fffffffe728) at main.c:5                                \n",
    "5               int iInput=0, iOutput=0;                                                     \n",
    "(gdb) n                                                                                      \n",
    "6               int i=0;                                                                     \n",
    "(gdb)                                                                                        \n",
    "7               scanf(\"%i\",&iInput);                                                         \n",
    "(gdb) print i                                                                                \n",
    "$7 = 0                                                                                       \n",
    "(gdb) display iInput                                                                         \n",
    "1: iInput = 0                                                                                \n",
    "(gdb) n                                                                                      \n",
    "4                                                                                            \n",
    "8               while(iInput < 0)                                                            \n",
    "1: iInput = 4                                                                                \n",
    "(gdb)                                                                                        \n",
    "13              iOutput = calc(iInput);                                                      \n",
    "1: iInput = 4                                                                                \n",
    "(gdb)                                                                                        \n",
    "15              printf(\"Result is:%i\\n\", iOutput);                                           \n",
    "1: iInput = 4                                                                                \n",
    "(gdb) whatis iOutput                                                                         \n",
    "type = int      \n",
    "____"
   ]
  },
  {
   "cell_type": "markdown",
   "metadata": {},
   "source": [
    "### 4) 改变待调试程序的执行环境\n",
    "\n",
    "gdb可以在运行时改变变量的值或跳转到某行执行。\n",
    "\n",
    "#### (1) 修改变量值\n",
    "\n",
    "可以采用两种方式：\n",
    "\n",
    "print 变量=值\n",
    "\n",
    "或者\n",
    "\n",
    "set variable 变量=值"
   ]
  },
  {
   "cell_type": "markdown",
   "metadata": {},
   "source": [
    "例如，运行程序，用户输入4后，通过print命令改变iInput的值为5，继续运行，得出结果。\n",
    "\n",
    "____\n",
    "(gdb) run                                                                                    \n",
    "Starting program: /notebooks/workspace/example/calc/main                                     \n",
    "                                                                                             \n",
    "Breakpoint 13, main (argc=1, argv=0x7fffffffe728) at main.c:5                                \n",
    "5               int iInput=0, iOutput=0;                                                     \n",
    "1: iInput = 32767                                                                            \n",
    "(gdb) n                                                                                      \n",
    "6               int i=0;                                                                     \n",
    "1: iInput = 0                                                                                \n",
    "(gdb)                                                                                        \n",
    "7               scanf(\"%i\",&iInput);                                                         \n",
    "1: iInput = 0                                                                                \n",
    "(gdb)                                                                                        \n",
    "4                                                                                            \n",
    "8               while(iInput < 0)                                                            \n",
    "1: iInput = 4                                                                                \n",
    "(gdb) print iInput=5                                                                         \n",
    "$9 = 5                                                                                       \n",
    "(gdb) n                                                                                      \n",
    "13              iOutput = calc(iInput);                                                      \n",
    "1: iInput = 5                                                                                \n",
    "(gdb) c                                                                                      \n",
    "Continuing.                                                                                  \n",
    "Result is:38880                                                                              \n",
    "[Inferior 1 (process 147) exited normally]    \n",
    "____"
   ]
  },
  {
   "cell_type": "markdown",
   "metadata": {},
   "source": [
    "#### (2) 跳转执行\n",
    "\n",
    "可以在调试中跳转到某行执行，命令格式如下：\n",
    "\n",
    "jump  linenum\n",
    "\n",
    "跳转到linenum行执行"
   ]
  },
  {
   "cell_type": "markdown",
   "metadata": {},
   "source": [
    "例如，下面的调试中，在打印出结果后返回输入位置继续运行，得到两次打印结果。\n",
    "\n",
    "____\n",
    "(gdb) run                                                                                    \n",
    "The program being debugged has been started already.                                         \n",
    "Start it from the beginning? (y or n) y                                                      \n",
    "                                                                                             \n",
    "Starting program: /notebooks/workspace/example/calc/main                                     \n",
    "                                                                                             \n",
    "Breakpoint 13, main (argc=1, argv=0x7fffffffe728) at main.c:5                                \n",
    "5               int iInput=0, iOutput=0;                                                     \n",
    "(gdb) n                                                                                      \n",
    "6               int i=0;                                                                     \n",
    "(gdb)                                                                                        \n",
    "7               scanf(\"%i\",&iInput);                                                         \n",
    "(gdb)                                                                                        \n",
    "4                                                                                            \n",
    "8               while(iInput < 0)                                                            \n",
    "(gdb) n                                                                                      \n",
    "13              iOutput = calc(iInput);                                                      \n",
    "(gdb)                                                                                        \n",
    "15              printf(\"Result is:%i\\n\", iOutput);                                           \n",
    "(gdb)                                                                                        \n",
    "Result is:2500                                                                               \n",
    "16              return 0;                                                                    \n",
    "(gdb) jump 7                                                                                 \n",
    "Continuing at 0x400611.                                                                      \n",
    "5                                                                                            \n",
    "Result is:38880                                                                              \n",
    "[Inferior 1 (process 149) exited normally]  \n",
    "____"
   ]
  },
  {
   "cell_type": "markdown",
   "metadata": {},
   "source": [
    "### 实验任务2\n",
    "\n",
    "需要调试上述例子/notebooks/workspace/example/calc目录下的main.c和calc.c生成的程序，写出当输入10时，calc函数的循环结构中，变量iOut的所有值，并写出调试过程。"
   ]
  },
  {
   "cell_type": "code",
   "execution_count": null,
   "metadata": {
    "collapsed": true
   },
   "outputs": [],
   "source": []
  },
  {
   "cell_type": "markdown",
   "metadata": {},
   "source": [
    "### 7.3、自动编译\n",
    "\n",
    "本次实验7.3由/notebooks/workspace/example/make/main.0目录下的5个文件为例，这5个文件的内容为："
   ]
  },
  {
   "cell_type": "code",
   "execution_count": 29,
   "metadata": {
    "collapsed": false
   },
   "outputs": [],
   "source": [
    "cd /notebooks/workspace/example/make/main.0"
   ]
  },
  {
   "cell_type": "code",
   "execution_count": 30,
   "metadata": {
    "collapsed": false
   },
   "outputs": [
    {
     "name": "stdout",
     "output_type": "stream",
     "text": [
      "main.c    Makefile.1  Makefile.3  test1.h  test2.h\n",
      "Makefile  Makefile.2  test1.c     test2.c\n"
     ]
    }
   ],
   "source": [
    "ls"
   ]
  },
  {
   "cell_type": "code",
   "execution_count": 31,
   "metadata": {
    "collapsed": false
   },
   "outputs": [
    {
     "name": "stdout",
     "output_type": "stream",
     "text": [
      "/*  main.c */\n",
      "#include \"test1.h\"\n",
      "#include \"test2.h\"\n",
      "\n",
      "int main(int argc,char **argv)\n",
      " {\n",
      "  test1_print(\"hello\");\n",
      "  test2_print(\"hello\");\n",
      " }\n"
     ]
    }
   ],
   "source": [
    "cat main.c"
   ]
  },
  {
   "cell_type": "code",
   "execution_count": 32,
   "metadata": {
    "collapsed": false
   },
   "outputs": [
    {
     "name": "stdout",
     "output_type": "stream",
     "text": [
      "/*  test1.h  */\n",
      "void test1_print(char *str);\n"
     ]
    }
   ],
   "source": [
    "cat test1.h"
   ]
  },
  {
   "cell_type": "code",
   "execution_count": 33,
   "metadata": {
    "collapsed": false
   },
   "outputs": [
    {
     "name": "stdout",
     "output_type": "stream",
     "text": [
      "/*  test1.c  */\n",
      "#include \"test1.h\"\n",
      "void test1_print(char *str)\n",
      "{\n",
      "  printf(\"OK! This is test1 print %s\\n\",str);\n",
      "}\n"
     ]
    }
   ],
   "source": [
    "cat test1.c"
   ]
  },
  {
   "cell_type": "code",
   "execution_count": 34,
   "metadata": {
    "collapsed": false
   },
   "outputs": [
    {
     "name": "stdout",
     "output_type": "stream",
     "text": [
      "/* test2.h */\n",
      "void test2_print(char *str);\n"
     ]
    }
   ],
   "source": [
    "cat test2.h"
   ]
  },
  {
   "cell_type": "code",
   "execution_count": 35,
   "metadata": {
    "collapsed": false
   },
   "outputs": [
    {
     "name": "stdout",
     "output_type": "stream",
     "text": [
      "/*  test2.c  */\n",
      "#include \"test2.h\"\n",
      "void test2_print(char *str) \n",
      "{\n",
      "  printf(\"This is test2 print %s\\n\", str);\n",
      "}\n"
     ]
    }
   ],
   "source": [
    "cat test2.c"
   ]
  },
  {
   "cell_type": "markdown",
   "metadata": {},
   "source": [
    "如果手工编译，需要如下语句："
   ]
  },
  {
   "cell_type": "code",
   "execution_count": 36,
   "metadata": {
    "collapsed": false
   },
   "outputs": [],
   "source": [
    "gcc -c main.c"
   ]
  },
  {
   "cell_type": "code",
   "execution_count": 37,
   "metadata": {
    "collapsed": false
   },
   "outputs": [
    {
     "name": "stdout",
     "output_type": "stream",
     "text": [
      "test1.c: In function ‘test1_print’:\n",
      "test1.c:5:3: warning: incompatible implicit declaration of built-in function ‘printf’\n",
      "   printf(\"OK! This is test1 print %s\\n\",str);\n",
      "   ^\n"
     ]
    }
   ],
   "source": [
    "gcc -c test1.c"
   ]
  },
  {
   "cell_type": "code",
   "execution_count": 38,
   "metadata": {
    "collapsed": false
   },
   "outputs": [
    {
     "name": "stdout",
     "output_type": "stream",
     "text": [
      "test2.c: In function ‘test2_print’:\n",
      "test2.c:5:3: warning: incompatible implicit declaration of built-in function ‘printf’\n",
      "   printf(\"This is test2 print %s\\n\", str);\n",
      "   ^\n"
     ]
    }
   ],
   "source": [
    "gcc -c test2.c"
   ]
  },
  {
   "cell_type": "code",
   "execution_count": 39,
   "metadata": {
    "collapsed": false
   },
   "outputs": [],
   "source": [
    "gcc -o mainapp main.o test1.o test2.o"
   ]
  },
  {
   "cell_type": "code",
   "execution_count": 40,
   "metadata": {
    "collapsed": false
   },
   "outputs": [
    {
     "name": "stdout",
     "output_type": "stream",
     "text": [
      "mainapp  main.o    Makefile.1  Makefile.3  test1.h  test2.c  test2.o\n",
      "main.c   Makefile  Makefile.2  test1.c     test1.o  test2.h\n"
     ]
    }
   ],
   "source": [
    "ls"
   ]
  },
  {
   "cell_type": "code",
   "execution_count": 41,
   "metadata": {
    "collapsed": false
   },
   "outputs": [
    {
     "name": "stdout",
     "output_type": "stream",
     "text": [
      "OK! This is test1 print hello\n",
      "This is test2 print hello\n"
     ]
    },
    {
     "ename": "",
     "evalue": "26",
     "output_type": "error",
     "traceback": []
    }
   ],
   "source": [
    "./mainapp"
   ]
  },
  {
   "cell_type": "code",
   "execution_count": 42,
   "metadata": {
    "collapsed": false
   },
   "outputs": [],
   "source": [
    "rm mainapp"
   ]
  },
  {
   "cell_type": "markdown",
   "metadata": {},
   "source": [
    "若采用自动编译工具make来进行编译，则先需要编写Makefile文件，内容如下："
   ]
  },
  {
   "cell_type": "code",
   "execution_count": 43,
   "metadata": {
    "collapsed": false
   },
   "outputs": [
    {
     "name": "stdout",
     "output_type": "stream",
     "text": [
      "mainapp: main.o test1.o test2.o\n",
      "\tgcc -o mainapp main.o test1.o test2.o\n",
      "main.o: main.c test1.h test2.h\n",
      "\tgcc -c main.c\n",
      "test1.o: test1.c test1.h\n",
      "\tgcc -c test1.c\n",
      "test2.o: test2.c test2.h\n",
      "\tgcc -c test2.c\n"
     ]
    }
   ],
   "source": [
    "cat Makefile"
   ]
  },
  {
   "cell_type": "markdown",
   "metadata": {},
   "source": [
    "然后运行make工具："
   ]
  },
  {
   "cell_type": "code",
   "execution_count": 44,
   "metadata": {
    "collapsed": false
   },
   "outputs": [
    {
     "name": "stdout",
     "output_type": "stream",
     "text": [
      "gcc -o mainapp main.o test1.o test2.o\n"
     ]
    }
   ],
   "source": [
    "make"
   ]
  },
  {
   "cell_type": "code",
   "execution_count": 45,
   "metadata": {
    "collapsed": false
   },
   "outputs": [
    {
     "name": "stdout",
     "output_type": "stream",
     "text": [
      "mainapp  main.o    Makefile.1  Makefile.3  test1.h  test2.c  test2.o\n",
      "main.c   Makefile  Makefile.2  test1.c     test1.o  test2.h\n"
     ]
    }
   ],
   "source": [
    "ls"
   ]
  },
  {
   "cell_type": "markdown",
   "metadata": {},
   "source": [
    "Makefile文件由4个“依赖关系+规则”部分组成（即首字母靠行起始对齐的四个部分，”规则“部分根据情况可不写）。比如，第一个部分为：\n",
    "\n",
    "`\n",
    "mainapp: main.o test1.o test2.o\n",
    "\tgcc -o mainapp main.o test1.o test2.o\n",
    "`\n",
    "\n",
    "该部分中，“依赖关系”为“mainapp: main.o test1.o test2.o”，即目标为“mainapp”，依赖对象为“main.o”, \"test1.o\"和“test2.o”，目标和依赖对象均为文件（依赖对象根据情况可可以不写），表明当依赖对象test1.o或test2.o或main.o比目标文件mainapp新的时候（即依赖对象发生改变），执行紧接着的“规则”的命令，也就是“gcc -o mainapp main.o test1.o test2.o”，注意：“规则”一行前面有一个TAB间隔（按键盘上的“TAB”键，即制表键）。\n",
    "\n",
    "如此以来，当修改5个源程序文件main.c, test1.c, test1.h, test2.c, test2.h中的任意一个时，make工具能根据Makefile中定义的依赖关系选择的需要更新的目标文件进行编译，生成可执行文件，从而节约编译时间。当软件项目包括很多源程序时，可以简化编译过程，省缺编译时间，提高软件开发速度。\n",
    "\n",
    "make工具的命令行为：\n",
    "\n",
    "make [-f Makefile文件] [目标]\n",
    "\n",
    "即执行Makefile文件中依赖关系中满足“目标”的那一行的规则，如果没有”目标“参数，则默认执行all目标或者第一行的目标。\n",
    "\n",
    "例如，在上述Makefile文件中增加clean目标的一行，如："
   ]
  },
  {
   "cell_type": "code",
   "execution_count": 46,
   "metadata": {
    "collapsed": false
   },
   "outputs": [
    {
     "name": "stdout",
     "output_type": "stream",
     "text": [
      "mainapp: main.o test1.o test2.o\n",
      "\tgcc -o mainapp main.o test1.o test2.o\n",
      "main.o: main.c test1.h test2.h\n",
      "\tgcc -c main.c\n",
      "test1.o: test1.c test1.h\n",
      "\tgcc -c test1.c\n",
      "test2.o: test2.c test2.h\n",
      "\tgcc -c test2.c\n",
      "clean:\n",
      "\trm mainapp main.o test1.o test2.o 2>/dev/null\n"
     ]
    }
   ],
   "source": [
    "cat Makefile.1"
   ]
  },
  {
   "cell_type": "markdown",
   "metadata": {},
   "source": [
    "Makefile.1中clean目标没有指定依赖，而clean目标文件本身也不存在，则执行该目标不需要检查依赖对象是否比clean目标新。也就是说在执行make clean时，动作“rm mainapp main.o test1.o test2.o 2>/dev/null”均执行。"
   ]
  },
  {
   "cell_type": "code",
   "execution_count": 49,
   "metadata": {
    "collapsed": false
   },
   "outputs": [
    {
     "name": "stdout",
     "output_type": "stream",
     "text": [
      "gcc -c main.c\n",
      "gcc -c test1.c\n",
      "test1.c: In function ‘test1_print’:\n",
      "test1.c:5:3: warning: incompatible implicit declaration of built-in function ‘printf’\n",
      "   printf(\"OK! This is test1 print %s\\n\",str);\n",
      "   ^\n",
      "gcc -c test2.c\n",
      "test2.c: In function ‘test2_print’:\n",
      "test2.c:5:3: warning: incompatible implicit declaration of built-in function ‘printf’\n",
      "   printf(\"This is test2 print %s\\n\", str);\n",
      "   ^\n",
      "gcc -o mainapp main.o test1.o test2.o\n"
     ]
    }
   ],
   "source": [
    "make -f Makefile.1"
   ]
  },
  {
   "cell_type": "code",
   "execution_count": 50,
   "metadata": {
    "collapsed": false
   },
   "outputs": [
    {
     "name": "stdout",
     "output_type": "stream",
     "text": [
      "mainapp  main.o    Makefile.1  Makefile.3  test1.h  test2.c  test2.o\n",
      "main.c   Makefile  Makefile.2  test1.c     test1.o  test2.h\n"
     ]
    }
   ],
   "source": [
    "ls"
   ]
  },
  {
   "cell_type": "markdown",
   "metadata": {},
   "source": [
    "则可以通过执行make -c Makefile.1 clean命令行，删除mainapp, main.o, test1.o, test2.o四个文件，如："
   ]
  },
  {
   "cell_type": "code",
   "execution_count": 51,
   "metadata": {
    "collapsed": false
   },
   "outputs": [
    {
     "name": "stdout",
     "output_type": "stream",
     "text": [
      "rm mainapp main.o test1.o test2.o 2>/dev/null\n"
     ]
    }
   ],
   "source": [
    "make -f Makefile.1 clean"
   ]
  },
  {
   "cell_type": "code",
   "execution_count": 52,
   "metadata": {
    "collapsed": false
   },
   "outputs": [
    {
     "name": "stdout",
     "output_type": "stream",
     "text": [
      "main.c    Makefile.1  Makefile.3  test1.h  test2.h\n",
      "Makefile  Makefile.2  test1.c     test2.c\n"
     ]
    }
   ],
   "source": [
    "ls"
   ]
  },
  {
   "cell_type": "markdown",
   "metadata": {},
   "source": [
    "另外，为了简化Makefile，可以使用特定的变量$@,$^,$<，它们的含义为：\n",
    "\n",
    "$@\t\t目标文件\n",
    "\n",
    "$^\t\t所有的依赖文件\n",
    "\n",
    "$<\t\t第一个依赖文件\n",
    "\n",
    "例如，Makefile.2文件使用了简化方式。"
   ]
  },
  {
   "cell_type": "code",
   "execution_count": 53,
   "metadata": {
    "collapsed": false
   },
   "outputs": [
    {
     "name": "stdout",
     "output_type": "stream",
     "text": [
      "mainapp: main.o test1.o test2.o\n",
      "\tgcc -o $@ $^\n",
      "main.o: main.c test1.h test2.h\n",
      "\tgcc -c $<\n",
      "test1.o: test1.c test1.h\n",
      "\tgcc -c $<\n",
      "test2.o: test2.c test2.h\n",
      "\tgcc -c $<\n"
     ]
    }
   ],
   "source": [
    "cat Makefile.2"
   ]
  },
  {
   "cell_type": "code",
   "execution_count": 54,
   "metadata": {
    "collapsed": false
   },
   "outputs": [
    {
     "name": "stdout",
     "output_type": "stream",
     "text": [
      "gcc -c main.c\n",
      "gcc -c test1.c\n",
      "test1.c: In function ‘test1_print’:\n",
      "test1.c:5:3: warning: incompatible implicit declaration of built-in function ‘printf’\n",
      "   printf(\"OK! This is test1 print %s\\n\",str);\n",
      "   ^\n",
      "gcc -c test2.c\n",
      "test2.c: In function ‘test2_print’:\n",
      "test2.c:5:3: warning: incompatible implicit declaration of built-in function ‘printf’\n",
      "   printf(\"This is test2 print %s\\n\", str);\n",
      "   ^\n",
      "gcc -o mainapp main.o test1.o test2.o\n"
     ]
    }
   ],
   "source": [
    "make -f Makefile.2"
   ]
  },
  {
   "cell_type": "code",
   "execution_count": 55,
   "metadata": {
    "collapsed": false
   },
   "outputs": [
    {
     "name": "stdout",
     "output_type": "stream",
     "text": [
      "mainapp  main.o    Makefile.1  Makefile.3  test1.h  test2.c  test2.o\n",
      "main.c   Makefile  Makefile.2  test1.c     test1.o  test2.h\n"
     ]
    }
   ],
   "source": [
    "ls"
   ]
  },
  {
   "cell_type": "markdown",
   "metadata": {},
   "source": [
    "Makefile.3是增加了all目标和clean目标的示范，内容为："
   ]
  },
  {
   "cell_type": "code",
   "execution_count": 56,
   "metadata": {
    "collapsed": false
   },
   "outputs": [
    {
     "name": "stdout",
     "output_type": "stream",
     "text": [
      "all: mainapp\n",
      "mainapp: main.o test1.o test2.o\n",
      "\tgcc -o $@ $^\n",
      "main.o: main.c test1.h test2.h\n",
      "\tgcc -c $<\n",
      "test1.o: test1.c test1.h\n",
      "\tgcc -c $<\n",
      "test2.o: test2.c test2.h\n",
      "\tgcc -c $<\n",
      "clean:\n",
      "\trm mainapp main.o test1.o test2.o 2>/dev/null\n"
     ]
    }
   ],
   "source": [
    "cat Makefile.3"
   ]
  },
  {
   "cell_type": "code",
   "execution_count": 57,
   "metadata": {
    "collapsed": false
   },
   "outputs": [
    {
     "name": "stdout",
     "output_type": "stream",
     "text": [
      "rm mainapp main.o test1.o test2.o 2>/dev/null\n"
     ]
    }
   ],
   "source": [
    "make -f Makefile.3 clean"
   ]
  },
  {
   "cell_type": "code",
   "execution_count": 58,
   "metadata": {
    "collapsed": false
   },
   "outputs": [
    {
     "name": "stdout",
     "output_type": "stream",
     "text": [
      "main.c    Makefile.1  Makefile.3  test1.h  test2.h\n",
      "Makefile  Makefile.2  test1.c     test2.c\n"
     ]
    }
   ],
   "source": [
    "ls"
   ]
  },
  {
   "cell_type": "markdown",
   "metadata": {},
   "source": [
    "上面命令执行了clean目标，删除了所有目标文件。因为all目标依赖对象是mainapp，所以执行该目标可以完成编译过程，如："
   ]
  },
  {
   "cell_type": "code",
   "execution_count": 59,
   "metadata": {
    "collapsed": false
   },
   "outputs": [
    {
     "name": "stdout",
     "output_type": "stream",
     "text": [
      "gcc -c main.c\n",
      "gcc -c test1.c\n",
      "test1.c: In function ‘test1_print’:\n",
      "test1.c:5:3: warning: incompatible implicit declaration of built-in function ‘printf’\n",
      "   printf(\"OK! This is test1 print %s\\n\",str);\n",
      "   ^\n",
      "gcc -c test2.c\n",
      "test2.c: In function ‘test2_print’:\n",
      "test2.c:5:3: warning: incompatible implicit declaration of built-in function ‘printf’\n",
      "   printf(\"This is test2 print %s\\n\", str);\n",
      "   ^\n",
      "gcc -o mainapp main.o test1.o test2.o\n"
     ]
    }
   ],
   "source": [
    "make -f Makefile.3"
   ]
  },
  {
   "cell_type": "code",
   "execution_count": 60,
   "metadata": {
    "collapsed": false
   },
   "outputs": [
    {
     "name": "stdout",
     "output_type": "stream",
     "text": [
      "mainapp  main.o    Makefile.1  Makefile.3  test1.h  test2.c  test2.o\n",
      "main.c   Makefile  Makefile.2  test1.c     test1.o  test2.h\n"
     ]
    }
   ],
   "source": [
    "ls"
   ]
  },
  {
   "cell_type": "markdown",
   "metadata": {},
   "source": [
    "可见，all目标完成了软件的编译，得到了mainapp文件。"
   ]
  },
  {
   "cell_type": "markdown",
   "metadata": {},
   "source": [
    "### 实验任务3\n",
    "\n",
    "请根据7.3讲述的Makefile的写法，为/notebooks/workspace目录下的bubbleSort.c, insertSort.c, selectSort.c, sort.c, sort.h编写Makefile文件，要求至少包括all和clean目标。"
   ]
  },
  {
   "cell_type": "markdown",
   "metadata": {},
   "source": [
    "## 8 实验任务\n",
    "\n",
    "完成7节中的实验任务1、2、3，要求写出具体实验步骤和实验结果，参考本实验指导书中实验步骤和实验结果的表达方式，并请给出必要的文字描述，以展示出对实验内容的掌握程度。\n"
   ]
  },
  {
   "cell_type": "markdown",
   "metadata": {},
   "source": [
    "# 9 实验思考\n",
    "\n",
    "1、源代码级别的调试和二进制级别的调试有什么区别？"
   ]
  },
  {
   "cell_type": "code",
   "execution_count": null,
   "metadata": {
    "collapsed": true
   },
   "outputs": [],
   "source": []
  }
 ],
 "metadata": {
  "kernelspec": {
   "display_name": "Bash",
   "language": "bash",
   "name": "bash"
  },
  "language_info": {
   "codemirror_mode": "shell",
   "file_extension": ".sh",
   "mimetype": "text/x-sh",
   "name": "bash"
  }
 },
 "nbformat": 4,
 "nbformat_minor": 1
}
